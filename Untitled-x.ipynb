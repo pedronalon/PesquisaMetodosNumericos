{
 "cells": [
  {
   "cell_type": "code",
   "execution_count": 3,
   "id": "fdad01d4",
   "metadata": {},
   "outputs": [],
   "source": [
    "import jax \n",
    "import jax.numpy as jnp\n",
    "from jax import grad, jacfwd, jvp, vjp, jacrev"
   ]
  },
  {
   "cell_type": "code",
   "execution_count": 4,
   "id": "4915dbdd",
   "metadata": {},
   "outputs": [],
   "source": [
    "def f(x,y,z):\n",
    "    return jnp.exp(x) * jnp.sin(y) + x*y*z + jnp.log(1+x**2+y**2) \n"
   ]
  },
  {
   "cell_type": "code",
   "execution_count": 5,
   "id": "b0de8cdd",
   "metadata": {},
   "outputs": [],
   "source": [
    "def g(x,y,z): \n",
    "    return jnp.array([x**2 + y,jnp.cos(z),x * y * z]) #retorna um vetor com 3 componentes \n",
    "\n",
    "#cada uma das componentes depende de x,y e z de forma diferente\n",
    "     "
   ]
  },
  {
   "cell_type": "code",
   "execution_count": 13,
   "id": "5654e9c7",
   "metadata": {},
   "outputs": [
    {
     "name": "stdout",
     "output_type": "stream",
     "text": [
      "3.1921024\n"
     ]
    }
   ],
   "source": [
    "#grad\n",
    "grad_fx = grad(f, argnums=(0))    #argnums serve para especificar as entradas da função, em qual argumento se calcula a derivada, em mais de um argumento se retornaria uma tupla de derivadas\n",
    "print(grad_fx(1.0, 0.5, 2.0))  \n"
   ]
  },
  {
   "cell_type": "code",
   "execution_count": 7,
   "id": "b3a24a4d",
   "metadata": {},
   "outputs": [
    {
     "name": "stdout",
     "output_type": "stream",
     "text": [
      "[ 2. -0.  1.]\n",
      "[ 1. -0.  2.]\n",
      "[ 0.        -0.9092974  0.5      ]\n"
     ]
    }
   ],
   "source": [
    "#jacfwd\n",
    "\n",
    "jacobiano= jacfwd(g, argnums=(0, 1, 2))\n",
    "Jx, Jy, Jz = jacobiano(1.0,0.5,2.0)\n",
    "print(Jx) #imprime a derivada de todas componentes em relação a x e assim por diante\n",
    "print(Jy)\n",
    "print(Jz)"
   ]
  },
  {
   "cell_type": "code",
   "execution_count": null,
   "id": "8210b285",
   "metadata": {},
   "outputs": [
    {
     "name": "stdout",
     "output_type": "stream",
     "text": [
      "3.1921024\n",
      "4.829961\n",
      "0.5\n"
     ]
    }
   ],
   "source": [
    "#jacrev\n",
    "jacobiano2 = jacrev(f,argnums=(0,1,2))\n",
    "Jx2,Jy2,Jz2 = jacobiano2(1.0,0.5,2.0)\n",
    "print(Jx2)\n",
    "print(Jy2)\n",
    "print(Jz2)"
   ]
  },
  {
   "cell_type": "code",
   "execution_count": 5,
   "id": "992df01d",
   "metadata": {},
   "outputs": [
    {
     "name": "stdout",
     "output_type": "stream",
     "text": [
      "[ 1.5        -0.41614684  1.        ]\n",
      "[2.5       0.9092974 1.5      ]\n"
     ]
    }
   ],
   "source": [
    "#jvp (Derivada Direcional), retorna dois valores\n",
    "vet = (1.0, 0.5, -1.0) # direção da derivada \n",
    "valor_jvp, derivada_jvp = jvp(g, (1.0, 0.5, 2.0), vet)\n",
    "print(valor_jvp)  # valor da função nos pontos escolhidos\n",
    "print(derivada_jvp)  # derivada direcional nesses pontos"
   ]
  },
  {
   "cell_type": "code",
   "execution_count": null,
   "id": "81e3caa1",
   "metadata": {},
   "outputs": [
    {
     "name": "stdout",
     "output_type": "stream",
     "text": [
      "2.5\n",
      "2.0\n",
      "1.1592975\n"
     ]
    }
   ],
   "source": [
    "#vjp\n",
    "# Multiplica um vetor cotangente (geralmente os gradientes da saída) pela Jacobiana da função.\n",
    "# Retorna os gradientes em relação aos inputs, sem calcular a Jacobiana explicitamente (o que economiza memória e computação).\n",
    "#ideal para backpropagation e saidas vetoriais de redes neurais \n",
    "\n",
    "u = jnp.array([1.0,-1.0,0.5]) #vetor cotangente\n",
    "valor_vjp, vjp_fun = vjp(g, 1.0, 0.5, 2.0)\n",
    "grad_x, grad_y, grad_z = vjp_fun(u) \n",
    "print(grad_x)\n",
    "print(grad_y)\n",
    "print(grad_z)"
   ]
  }
 ],
 "metadata": {
  "kernelspec": {
   "display_name": "Python 3",
   "language": "python",
   "name": "python3"
  },
  "language_info": {
   "codemirror_mode": {
    "name": "ipython",
    "version": 3
   },
   "file_extension": ".py",
   "mimetype": "text/x-python",
   "name": "python",
   "nbconvert_exporter": "python",
   "pygments_lexer": "ipython3",
   "version": "3.12.5"
  }
 },
 "nbformat": 4,
 "nbformat_minor": 5
}
